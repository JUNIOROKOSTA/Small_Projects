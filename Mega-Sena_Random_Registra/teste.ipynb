{
 "cells": [
  {
   "cell_type": "markdown",
   "metadata": {},
   "source": [
    "# API fonte:\n",
    "- https://github.com/guto-alves/loterias-api\n",
    "- https://loteriascaixa-api.herokuapp.com/swagger-ui/#/Loterias"
   ]
  },
  {
   "cell_type": "code",
   "execution_count": 9,
   "metadata": {},
   "outputs": [],
   "source": [
    "import json\n",
    "import requests"
   ]
  },
  {
   "cell_type": "code",
   "execution_count": 10,
   "metadata": {},
   "outputs": [],
   "source": [
    "ult_concurso = 'https://loteriascaixa-api.herokuapp.com/api/mega-sena/latest'\n",
    "ult_concurso = requests.get(ult_concurso)\n",
    "ult_concurso_json = ult_concurso.json()"
   ]
  },
  {
   "cell_type": "code",
   "execution_count": 42,
   "metadata": {},
   "outputs": [
    {
     "name": "stdout",
     "output_type": "stream",
     "text": [
      "131.566.946,59\n"
     ]
    }
   ],
   "source": [
    "prox_c = ult_concurso_json['proxConcurso']\n",
    "data_prox_c = ult_concurso_json['dataProxConcurso']\n",
    "valor_premio = ult_concurso_json['premiacoes'][0]['premio']\n",
    "\n",
    "print(valor_premio)"
   ]
  },
  {
   "cell_type": "code",
   "execution_count": 11,
   "metadata": {},
   "outputs": [],
   "source": [
    "with open('Mega-sena_ultimo.json', 'w') as f:\n",
    "    json.dump(ult_concurso_json, f, indent=4)"
   ]
  },
  {
   "cell_type": "code",
   "execution_count": 35,
   "metadata": {},
   "outputs": [],
   "source": [
    "concurso = 'https://loteriascaixa-api.herokuapp.com/api/mega-sena/2530'\n",
    "concurso = requests.get(concurso)\n",
    "concurso_json = concurso.json()"
   ]
  },
  {
   "cell_type": "code",
   "execution_count": 40,
   "metadata": {},
   "outputs": [
    {
     "name": "stdout",
     "output_type": "stream",
     "text": [
      "['14', '17', '18', '28', '30', '44'] -\n"
     ]
    }
   ],
   "source": [
    "with open('Mega-sena_por-concurso.json', 'w') as f:\n",
    "    json.dump(concurso_json, f, indent=4)\n",
    "\n",
    "dezenas = concurso_json['dezenas']\n",
    "premiacoes = concurso_json['premiacoes'][0]['premio']\n",
    "\n",
    "print(dezenas, premiacoes)"
   ]
  },
  {
   "cell_type": "code",
   "execution_count": 41,
   "metadata": {},
   "outputs": [
    {
     "name": "stdout",
     "output_type": "stream",
     "text": [
      "('loteria', 'mega-sena')\n",
      "('nome', 'Mega-Sena')\n",
      "('concurso', 2530)\n",
      "('data', '18/10/2022')\n",
      "('local', 'ESPAÇODASORTE em SÃOPAULO,SP')\n",
      "('dezenas', ['14', '17', '18', '28', '30', '44'])\n",
      "('premiacoes', [{'acertos': 'Sena', 'vencedores': 0, 'premio': '-'}, {'acertos': 'Quina', 'vencedores': 80, 'premio': '47.236,83'}, {'acertos': 'Quadra', 'vencedores': 6922, 'premio': '779,90'}])\n",
      "('estadosPremiados', [])\n",
      "('acumulou', True)\n",
      "('acumuladaProxConcurso', '')\n",
      "('dataProxConcurso', '')\n",
      "('proxConcurso', 2531)\n",
      "('timeCoracao', None)\n",
      "('mesSorte', None)\n"
     ]
    }
   ],
   "source": [
    "# ler os dados do Json\n",
    "\n",
    "with open('Mega-sena_por-concurso.json', 'r') as load:\n",
    "    load_dados = json.load(load)\n",
    "    for x in load_dados.items():\n",
    "        print(x)\n"
   ]
  },
  {
   "cell_type": "code",
   "execution_count": 1,
   "metadata": {},
   "outputs": [],
   "source": [
    "tabela = [('2022', '04-28-45-48-52-60', '14/03/2018', '04-28-45-48-52-60', 'R$ 60.000.000,00', '6'),\n",
    "          ('2022', '04-28-45-48-52-60', '14/03/2018', '04-28-45-48-52-60', 'R$ 60.000.000,00', '6'),\n",
    "          ('2501', '04-28-45-48-52-60', '03/11/2022', None, None, None), \n",
    "          ('2502', '04-28-45-48-52-60', '03/11/2022', None, None, None),\n",
    "          ('2503', '04-28-45-48-52-60', '03/11/2022', None, None, None), \n",
    "          ('2504', '04-28-45-48-52-60', '03/11/2022', None, None, None), \n",
    "          ('2505', '04-28-45-48-52-60', '03/11/2022', None, None, None),\n",
    "          ('2506', '04-28-45-48-52-60', '03/11/2022', None, None, None)]"
   ]
  },
  {
   "cell_type": "code",
   "execution_count": 3,
   "metadata": {},
   "outputs": [
    {
     "ename": "TypeError",
     "evalue": "list indices must be integers or slices, not str",
     "output_type": "error",
     "traceback": [
      "\u001b[1;31m---------------------------------------------------------------------------\u001b[0m",
      "\u001b[1;31mTypeError\u001b[0m                                 Traceback (most recent call last)",
      "\u001b[1;32me:\\PROJESTOS_ADS\\Mega-Sena_Random_Registra\\app\\teste.ipynb Célula: 10\u001b[0m in \u001b[0;36m<cell line: 1>\u001b[1;34m()\u001b[0m\n\u001b[1;32m----> <a href='vscode-notebook-cell:/e%3A/PROJESTOS_ADS/Mega-Sena_Random_Registra/app/teste.ipynb#X12sZmlsZQ%3D%3D?line=0'>1</a>\u001b[0m tabela[\u001b[39m\"\u001b[39;49m\u001b[39m1\u001b[39;49m\u001b[39m\"\u001b[39;49m]\n",
      "\u001b[1;31mTypeError\u001b[0m: list indices must be integers or slices, not str"
     ]
    }
   ],
   "source": [
    "tabela[1]"
   ]
  },
  {
   "cell_type": "code",
   "execution_count": 6,
   "metadata": {},
   "outputs": [
    {
     "name": "stdout",
     "output_type": "stream",
     "text": [
      "['14', '17', '18', '28', '30', '44']\n"
     ]
    }
   ],
   "source": [
    "dezenas = ['14', '17', '18', '28', '30', '44']\n",
    "print(dezenas)"
   ]
  },
  {
   "cell_type": "code",
   "execution_count": 7,
   "metadata": {},
   "outputs": [
    {
     "name": "stdout",
     "output_type": "stream",
     "text": [
      "[14-17-18-28-30-44]\n",
      "14-17-18-28-30-44]\n",
      "14-17-18-28-30-44\n"
     ]
    }
   ],
   "source": [
    "\n",
    "\n",
    "numberR = str(dezenas).replace(', ', '-')\n",
    "numberR = numberR.replace(\"'\",'')\n",
    "print(numberR)\n",
    "numberR = numberR.replace('[', '')\n",
    "print(numberR)\n",
    "numberR = numberR.replace(']', '')\n",
    "print(numberR)\n"
   ]
  },
  {
   "cell_type": "code",
   "execution_count": 14,
   "metadata": {},
   "outputs": [],
   "source": [
    "aposta1 = '14-17-18-28-30-44'\n",
    "aposta2 = '14-17-18-28-33-44'"
   ]
  },
  {
   "cell_type": "code",
   "execution_count": 16,
   "metadata": {},
   "outputs": [
    {
     "data": {
      "text/plain": [
       "(['14', '17', '18', '28', '30', '44'], ['14', '17', '18', '28', '33', '44'])"
      ]
     },
     "execution_count": 16,
     "metadata": {},
     "output_type": "execute_result"
    }
   ],
   "source": [
    "lista1 = aposta1.split('-')\n",
    "lista2 = aposta2.split('-')\n",
    "\n",
    "lista1, lista2"
   ]
  },
  {
   "cell_type": "code",
   "execution_count": 19,
   "metadata": {},
   "outputs": [
    {
     "data": {
      "text/plain": [
       "5"
      ]
     },
     "execution_count": 19,
     "metadata": {},
     "output_type": "execute_result"
    }
   ],
   "source": [
    "resulta = [x in lista1 for x in lista2]\n",
    "resulta = resulta.count(True)\n",
    "resulta"
   ]
  },
  {
   "cell_type": "code",
   "execution_count": null,
   "metadata": {},
   "outputs": [],
   "source": []
  }
 ],
 "metadata": {
  "kernelspec": {
   "display_name": "Python 3.10.5 64-bit",
   "language": "python",
   "name": "python3"
  },
  "language_info": {
   "codemirror_mode": {
    "name": "ipython",
    "version": 3
   },
   "file_extension": ".py",
   "mimetype": "text/x-python",
   "name": "python",
   "nbconvert_exporter": "python",
   "pygments_lexer": "ipython3",
   "version": "3.10.5"
  },
  "orig_nbformat": 4,
  "vscode": {
   "interpreter": {
    "hash": "78d3879e55fa46ad822c0717174859e77a1b80e72b088d1f45bc1ee831f1082d"
   }
  }
 },
 "nbformat": 4,
 "nbformat_minor": 2
}
